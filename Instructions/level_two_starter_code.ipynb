{
 "cells": [
  {
   "cell_type": "code",
   "execution_count": null,
   "metadata": {
    "id": "-nwzxq5q4Ole"
   },
   "outputs": [],
   "source": [
    "import os\n",
    "# Find the latest version of spark 3.0  from http://www-us.apache.org/dist/spark/ and enter as the spark version\n",
    "# For example:\n",
    "# spark_version = 'spark-3.0.1'\n",
    "spark_version = 'spark-3.0.1'\n",
    "jdk_version = '11'\n",
    "hadoop_version = 'hadoop2.7'\n",
    "\n",
    "# Set Environment Variables\n",
    "os.environ['SPARK_VERSION'] = spark_version\n",
    "os.environ['JDK_VERSION'] = jdk_version\n",
    "os.environ['HADOOP_VERSION'] = hadoop_version\n",
    "os.environ['JAVA_HOME'] = f'/usr/lib/jvm/java-{jdk_version}-openjdk-amd64'\n",
    "os.environ['SPARK_HOME'] = f'/content/{spark_version}-bin-{hadoop_version}'\n",
    "\n",
    "# Update modules and install Spark and Java\n",
    "!apt-get update\n",
    "!apt-get install openjdk-$JDK_VERSION-jdk-headless -qq > /dev/null\n",
    "!wget -q https://archive.apache.org/dist/spark/$SPARK_VERSION/$SPARK_VERSION-bin-$HADOOP_VERSION.tgz\n",
    "!tar xf $SPARK_VERSION-bin-$HADOOP_VERSION.tgz\n",
    "!pip install -q findspark\n",
    "\n",
    "# Start a SparkSession\n",
    "import findspark\n",
    "findspark.init()"
   ]
  },
  {
   "cell_type": "code",
   "execution_count": null,
   "metadata": {
    "id": "hr12wJ8J4Sy9"
   },
   "outputs": [],
   "source": [
    "from pyspark.sql import SparkSession\n",
    "spark = SparkSession.builder.appName(\"Level-Two-Starter-Code\").getOrCreate()"
   ]
  },
  {
   "cell_type": "markdown",
   "metadata": {
    "id": "1sDjdLAA4lHw"
   },
   "source": [
    "# Load Amazon Data into Spark DataFrame"
   ]
  },
  {
   "cell_type": "code",
   "execution_count": null,
   "metadata": {
    "id": "dCzwVUj74iFl"
   },
   "outputs": [],
   "source": [
    "from pyspark import SparkFiles\n",
    "raw_data_file = \"amazon_reviews_us_Video_Games_v1_00.tsv.gz\"\n",
    "url = \"https://s3.amazonaws.com/amazon-reviews-pds/tsv/\" + raw_data_file\n",
    "spark.sparkContext.addFile(url)\n",
    "# Read and show the data\n"
   ]
  },
  {
   "cell_type": "markdown",
   "metadata": {
    "id": "wYvHpYMO4os_"
   },
   "source": [
    "# Filter by Votes"
   ]
  },
  {
   "cell_type": "code",
   "execution_count": null,
   "metadata": {
    "id": "L0E9xDOuJmbP"
   },
   "outputs": [],
   "source": [
    "# Filter for greater than 20 total votes\n"
   ]
  },
  {
   "cell_type": "code",
   "execution_count": null,
   "metadata": {
    "id": "6QEk2nbcJBbz"
   },
   "outputs": [],
   "source": [
    "# Filter for greater than 50% helpful vote percentage\n"
   ]
  },
  {
   "cell_type": "markdown",
   "metadata": {
    "id": "AlnzTsVZ4tvT"
   },
   "source": [
    "# Describe Stats"
   ]
  },
  {
   "cell_type": "code",
   "execution_count": null,
   "metadata": {
    "id": "R4roMyzgJh29"
   },
   "outputs": [],
   "source": [
    "# Paid reviews\n"
   ]
  },
  {
   "cell_type": "code",
   "execution_count": null,
   "metadata": {
    "id": "o5qu-sPf7k-d"
   },
   "outputs": [],
   "source": [
    "# Unpaid reviews\n"
   ]
  },
  {
   "cell_type": "markdown",
   "metadata": {
    "id": "u17ssTQS4xHa"
   },
   "source": [
    "# Determine the percentage of five-star review among vine reviews"
   ]
  },
  {
   "cell_type": "code",
   "execution_count": null,
   "metadata": {
    "id": "HSSA2Z1-40QL"
   },
   "outputs": [],
   "source": [
    "# CODE HERE\n",
    "\n",
    "\n",
    "print(f'Number of paid reviews {paid_number}')\n",
    "print(f'Number of paid five star reviews {paid_five_star_number}')\n",
    "print(f'Percantage of paid reviews that are five stars {percentage_five_star_vine * 100}%')"
   ]
  },
  {
   "cell_type": "markdown",
   "metadata": {
    "id": "3L6C5S-K42bm"
   },
   "source": [
    "# Determine the percentage of five-star review among non-Vine reviews"
   ]
  },
  {
   "cell_type": "code",
   "execution_count": null,
   "metadata": {
    "id": "93A0BkCt49Vw"
   },
   "outputs": [],
   "source": [
    "# CODE HERE\n",
    "\n",
    "\n",
    "print(f'Number of unpaid reviews {unpaid_number}')\n",
    "print(f'Number of unpaid five star reviews {unpaid_five_star_number}')\n",
    "print(f'Percantage of paid reviews that are five stars {percentage_five_star_non_vine * 100}%')"
   ]
  },
  {
   "cell_type": "code",
   "execution_count": null,
   "metadata": {
    "id": "EDVIerag8qbt"
   },
   "outputs": [],
   "source": []
  }
 ],
 "metadata": {
  "colab": {
   "collapsed_sections": [],
   "name": "level_two_solution.ipynb",
   "provenance": []
  },
  "kernelspec": {
   "display_name": "Python 3",
   "language": "python",
   "name": "python3"
  },
  "language_info": {
   "codemirror_mode": {
    "name": "ipython",
    "version": 3
   },
   "file_extension": ".py",
   "mimetype": "text/x-python",
   "name": "python",
   "nbconvert_exporter": "python",
   "pygments_lexer": "ipython3",
   "version": "3.8.5"
  }
 },
 "nbformat": 4,
 "nbformat_minor": 1
}
